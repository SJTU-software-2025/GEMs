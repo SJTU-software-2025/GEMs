{
 "cells": [
  {
   "cell_type": "code",
   "execution_count": 1,
   "metadata": {},
   "outputs": [],
   "source": [
    "import cobra\n",
    "from cobra.io import load_json_model\n",
    "\n",
    "# \"iJO1366\" and \"salmonella\" are also valid arguments\n",
    "model = load_json_model(\"../integrated_model.json\")"
   ]
  },
  {
   "cell_type": "code",
   "execution_count": 2,
   "metadata": {},
   "outputs": [
    {
     "name": "stdout",
     "output_type": "stream",
     "text": [
      "1576\n",
      "1738\n",
      "0\n"
     ]
    }
   ],
   "source": [
    "print(len(model.reactions))\n",
    "print(len(model.metabolites))\n",
    "print(len(model.genes))"
   ]
  },
  {
   "cell_type": "code",
   "execution_count": 3,
   "metadata": {},
   "outputs": [
    {
     "data": {
      "text/html": [
       "\n",
       "        <table>\n",
       "            <tr>\n",
       "                <td><strong>Name</strong></td>\n",
       "                <td>Integrated_Model</td>\n",
       "            </tr><tr>\n",
       "                <td><strong>Memory address</strong></td>\n",
       "                <td>7f1afef7ec50</td>\n",
       "            </tr><tr>\n",
       "                <td><strong>Number of metabolites</strong></td>\n",
       "                <td>1738</td>\n",
       "            </tr><tr>\n",
       "                <td><strong>Number of reactions</strong></td>\n",
       "                <td>1576</td>\n",
       "            </tr><tr>\n",
       "                <td><strong>Number of genes</strong></td>\n",
       "                <td>0</td>\n",
       "            </tr><tr>\n",
       "                <td><strong>Number of groups</strong></td>\n",
       "                <td>0</td>\n",
       "            </tr><tr>\n",
       "                <td><strong>Objective expression</strong></td>\n",
       "                <td>0</td>\n",
       "            </tr><tr>\n",
       "                <td><strong>Compartments</strong></td>\n",
       "                <td>Cytosol, Extra_organism</td>\n",
       "            </tr>\n",
       "          </table>"
      ],
      "text/plain": [
       "<Model Integrated_Model at 0x7f1afef7ec50>"
      ]
     },
     "execution_count": 3,
     "metadata": {},
     "output_type": "execute_result"
    }
   ],
   "source": [
    "model"
   ]
  },
  {
   "cell_type": "code",
   "execution_count": 16,
   "metadata": {},
   "outputs": [
    {
     "data": {
      "text/html": [
       "\n",
       "        <table>\n",
       "            <tr>\n",
       "                <td><strong>Reaction identifier</strong></td><td>R00177</td>\n",
       "            </tr><tr>\n",
       "                <td><strong>Name</strong></td><td>R00177</td>\n",
       "            </tr><tr>\n",
       "                <td><strong>Memory address</strong></td>\n",
       "                <td>0x7fe9b995a2f0</td>\n",
       "            </tr><tr>\n",
       "                <td><strong>Stoichiometry</strong></td>\n",
       "                <td>\n",
       "                    <p style='text-align:right'>C00001 + C00002 + C00073 --> C00009 + C00013 + C00019</p>\n",
       "                    <p style='text-align:right'>H2O + ATP + L-Methionine --> Orthophosphate + Diphosphate + S-Adenosyl-L-methionine</p>\n",
       "                </td>\n",
       "            </tr><tr>\n",
       "                <td><strong>GPR</strong></td><td></td>\n",
       "            </tr><tr>\n",
       "                <td><strong>Lower bound</strong></td><td>0.0</td>\n",
       "            </tr><tr>\n",
       "                <td><strong>Upper bound</strong></td><td>1000.0</td>\n",
       "            </tr>\n",
       "        </table>\n",
       "        "
      ],
      "text/plain": [
       "<Reaction R00177 at 0x7fe9b995a2f0>"
      ]
     },
     "execution_count": 16,
     "metadata": {},
     "output_type": "execute_result"
    }
   ],
   "source": [
    "model.reactions[29]"
   ]
  },
  {
   "cell_type": "code",
   "execution_count": 18,
   "metadata": {},
   "outputs": [
    {
     "name": "stdout",
     "output_type": "stream",
     "text": [
      "R00004 blocked (bounds: (0, 0)), new growth rate 0.000000\n",
      "R00005 blocked (bounds: (0, 0)), new growth rate 0.000000\n",
      "R00006 blocked (bounds: (0, 0)), new growth rate 0.000000\n",
      "R00009 blocked (bounds: (0, 0)), new growth rate 0.000000\n",
      "R00013 blocked (bounds: (0, 0)), new growth rate 0.000000\n"
     ]
    }
   ],
   "source": [
    "for reaction in model.reactions[:5]:\n",
    "    with model as model:\n",
    "        reaction.knock_out()\n",
    "        model.optimize()\n",
    "        print('%s blocked (bounds: %s), new growth rate %f' %\n",
    "              (reaction.id, str(reaction.bounds), model.objective.value))"
   ]
  },
  {
   "cell_type": "code",
   "execution_count": 33,
   "metadata": {},
   "outputs": [
    {
     "name": "stdout",
     "output_type": "stream",
     "text": [
      "R00005: C00001 + C01010 --> 2.0 C00011 + 2.0 C00014\n"
     ]
    },
    {
     "data": {
      "text/plain": [
       "{}"
      ]
     },
     "execution_count": 33,
     "metadata": {},
     "output_type": "execute_result"
    }
   ],
   "source": [
    "reaction = model.reactions[1]\n",
    "print(reaction)\n",
    "reaction.check_mass_balance()\n",
    "reaction.add_metabolites({model.metabolites.get_by_id(\"C_H\"): -1})\n",
    "print(reaction)"
   ]
  },
  {
   "cell_type": "markdown",
   "metadata": {},
   "source": [
    "reaction.subtract_metabolites({model.metabolites.get_by_id(\"C_H\"): -1})"
   ]
  },
  {
   "cell_type": "code",
   "execution_count": 11,
   "metadata": {},
   "outputs": [
    {
     "name": "stdout",
     "output_type": "stream",
     "text": [
      "模型包含 1576 个反应\n",
      "模型包含 1735 个代谢物\n",
      "模型包含 0 个基因\n"
     ]
    },
    {
     "data": {
      "text/html": [
       "\n",
       "        <table>\n",
       "            <tr>\n",
       "                <td><strong>Metabolite identifier</strong></td><td>C00013</td>\n",
       "            </tr><tr>\n",
       "                <td><strong>Name</strong></td><td></td>\n",
       "            </tr><tr>\n",
       "                <td><strong>Memory address</strong></td>\n",
       "                <td>0x7fe9bb8a8100</td>\n",
       "            </tr><tr>\n",
       "                <td><strong>Formula</strong></td><td>None</td>\n",
       "            </tr><tr>\n",
       "                <td><strong>Compartment</strong></td><td></td>\n",
       "            </tr><tr>\n",
       "                <td><strong>In 92 reaction(s)</strong></td><td>\n",
       "                    R01132, R00161, R06368, R02003, R04771, R04230, R07416, R00483, R00177, R08231, R05222, R04035, R04231, R03348, R01799, R05452, R01954, R01231, R01229, R01658, R08528, R02100, R03531, R02720,...\n",
       "                    </td>\n",
       "            </tr>\n",
       "        </table>"
      ],
      "text/plain": [
       "<Metabolite C00013 at 0x7fe9bb8a8100>"
      ]
     },
     "execution_count": 11,
     "metadata": {},
     "output_type": "execute_result"
    }
   ],
   "source": [
    "from cobra.io import load_json_model\n",
    "\n",
    "# 加载模型\n",
    "model = load_json_model(\"../custom_model.json\")\n",
    "\n",
    "# 打印模型信息\n",
    "print(f\"模型包含 {len(model.reactions)} 个反应\")\n",
    "print(f\"模型包含 {len(model.metabolites)} 个代谢物\")\n",
    "print(f\"模型包含 {len(model.genes)} 个基因\")\n",
    "\n",
    "model.metabolites.get_by_id(\"C00013\")"
   ]
  }
 ],
 "metadata": {
  "kernelspec": {
   "display_name": "base",
   "language": "python",
   "name": "python3"
  },
  "language_info": {
   "codemirror_mode": {
    "name": "ipython",
    "version": 3
   },
   "file_extension": ".py",
   "mimetype": "text/x-python",
   "name": "python",
   "nbconvert_exporter": "python",
   "pygments_lexer": "ipython3",
   "version": "3.10.14"
  }
 },
 "nbformat": 4,
 "nbformat_minor": 2
}
